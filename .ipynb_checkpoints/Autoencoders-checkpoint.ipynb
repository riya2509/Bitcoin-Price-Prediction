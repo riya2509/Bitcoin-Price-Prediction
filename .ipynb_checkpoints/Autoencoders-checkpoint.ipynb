{
 "cells": [
  {
   "cell_type": "markdown",
   "id": "341484da",
   "metadata": {},
   "source": [
    "# Applying autoencoders"
   ]
  },
  {
   "cell_type": "code",
   "execution_count": 5,
   "id": "66255e08",
   "metadata": {},
   "outputs": [
    {
     "name": "stderr",
     "output_type": "stream",
     "text": [
      "C:\\Users\\KIIT\\AppData\\Local\\Temp\\ipykernel_6308\\412735731.py:4: DeprecationWarning: `import kerastuner` is deprecated, please use `import keras_tuner`.\n",
      "  import kerastuner.tuners as kt\n"
     ]
    },
    {
     "ename": "NameError",
     "evalue": "name 'x_train_scaled' is not defined",
     "output_type": "error",
     "traceback": [
      "\u001b[1;31m---------------------------------------------------------------------------\u001b[0m",
      "\u001b[1;31mNameError\u001b[0m                                 Traceback (most recent call last)",
      "Input \u001b[1;32mIn [5]\u001b[0m, in \u001b[0;36m<cell line: 41>\u001b[1;34m()\u001b[0m\n\u001b[0;32m     38\u001b[0m   decoded \u001b[38;5;241m=\u001b[39m \u001b[38;5;28mself\u001b[39m\u001b[38;5;241m.\u001b[39mdecoder(encoded)\n\u001b[0;32m     39\u001b[0m   \u001b[38;5;28;01mreturn\u001b[39;00m decoded\n\u001b[1;32m---> 41\u001b[0m auto_encoder \u001b[38;5;241m=\u001b[39m AutoEncoders(\u001b[38;5;28mlen\u001b[39m(\u001b[43mx_train_scaled\u001b[49m\u001b[38;5;241m.\u001b[39mcolumns))\n\u001b[0;32m     43\u001b[0m auto_encoder\u001b[38;5;241m.\u001b[39mcompile(\n\u001b[0;32m     44\u001b[0m     loss\u001b[38;5;241m=\u001b[39m\u001b[38;5;124m'\u001b[39m\u001b[38;5;124mmae\u001b[39m\u001b[38;5;124m'\u001b[39m,\n\u001b[0;32m     45\u001b[0m     metrics\u001b[38;5;241m=\u001b[39m[\u001b[38;5;124m'\u001b[39m\u001b[38;5;124mmae\u001b[39m\u001b[38;5;124m'\u001b[39m],\n\u001b[0;32m     46\u001b[0m     optimizer\u001b[38;5;241m=\u001b[39m\u001b[38;5;124m'\u001b[39m\u001b[38;5;124madam\u001b[39m\u001b[38;5;124m'\u001b[39m\n\u001b[0;32m     47\u001b[0m )\n\u001b[0;32m     49\u001b[0m history \u001b[38;5;241m=\u001b[39m auto_encoder\u001b[38;5;241m.\u001b[39mfit(\n\u001b[0;32m     50\u001b[0m     x_train_scaled, \n\u001b[0;32m     51\u001b[0m     x_train_scaled, \n\u001b[1;32m   (...)\u001b[0m\n\u001b[0;32m     54\u001b[0m     validation_data\u001b[38;5;241m=\u001b[39m(x_test_scaled, x_test_scaled)\n\u001b[0;32m     55\u001b[0m )\n",
      "\u001b[1;31mNameError\u001b[0m: name 'x_train_scaled' is not defined"
     ]
    }
   ],
   "source": [
    "import math\n",
    "import pandas as pd\n",
    "import tensorflow as tf\n",
    "import kerastuner.tuners as kt\n",
    "import matplotlib.pyplot as plt\n",
    "from tensorflow.keras import Model\n",
    "from tensorflow.keras import Sequential\n",
    "from sklearn.preprocessing import StandardScaler\n",
    "from tensorflow.keras.layers import Dense, Dropout\n",
    "from sklearn.model_selection import train_test_split\n",
    "from tensorflow.keras.losses import MeanSquaredLogarithmicError\n",
    "\n",
    "\n",
    "class AutoEncoders(Model):\n",
    "\n",
    "  def __init__(self, output_units):\n",
    "\n",
    "    super().__init__()\n",
    "    self.encoder = Sequential(\n",
    "        [\n",
    "          Dense(32, activation=\"relu\"),\n",
    "          Dense(16, activation=\"relu\"),\n",
    "          Dense(7, activation=\"relu\")\n",
    "        ]\n",
    "    )\n",
    "\n",
    "    self.decoder = Sequential(\n",
    "        [\n",
    "          Dense(16, activation=\"relu\"),\n",
    "          Dense(32, activation=\"relu\"),\n",
    "          Dense(output_units, activation=\"sigmoid\")\n",
    "        ]\n",
    "    )\n",
    "\n",
    "def call(self, inputs):\n",
    "\n",
    "  encoded = self.encoder(inputs)\n",
    "  decoded = self.decoder(encoded)\n",
    "  return decoded\n",
    "  \n",
    "auto_encoder = AutoEncoders(len(x_train_scaled.columns))\n",
    "\n",
    "auto_encoder.compile(\n",
    "    loss='mae',\n",
    "    metrics=['mae'],\n",
    "    optimizer='adam'\n",
    ")\n",
    "\n",
    "history = auto_encoder.fit(\n",
    "    x_train_scaled, \n",
    "    x_train_scaled, \n",
    "    epochs=15, \n",
    "    batch_size=32, \n",
    "    validation_data=(x_test_scaled, x_test_scaled)\n",
    ")\n"
   ]
  },
  {
   "cell_type": "code",
   "execution_count": null,
   "id": "01c30f5a",
   "metadata": {},
   "outputs": [],
   "source": []
  }
 ],
 "metadata": {
  "kernelspec": {
   "display_name": "Python 3 (ipykernel)",
   "language": "python",
   "name": "python3"
  },
  "language_info": {
   "codemirror_mode": {
    "name": "ipython",
    "version": 3
   },
   "file_extension": ".py",
   "mimetype": "text/x-python",
   "name": "python",
   "nbconvert_exporter": "python",
   "pygments_lexer": "ipython3",
   "version": "3.8.13"
  }
 },
 "nbformat": 4,
 "nbformat_minor": 5
}
