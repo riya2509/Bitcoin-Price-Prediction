{
 "cells": [
  {
   "cell_type": "code",
   "execution_count": 1,
   "id": "dac76e43",
   "metadata": {},
   "outputs": [],
   "source": [
    "import numpy as np\n",
    "import pandas as pd\n",
    "import seaborn as sns\n",
    "import matplotlib.pyplot as plt\n",
    "%matplotlib inline"
   ]
  },
  {
   "cell_type": "code",
   "execution_count": 2,
   "id": "6e6eb901",
   "metadata": {},
   "outputs": [
    {
     "data": {
      "text/html": [
       "<div>\n",
       "<style scoped>\n",
       "    .dataframe tbody tr th:only-of-type {\n",
       "        vertical-align: middle;\n",
       "    }\n",
       "\n",
       "    .dataframe tbody tr th {\n",
       "        vertical-align: top;\n",
       "    }\n",
       "\n",
       "    .dataframe thead th {\n",
       "        text-align: right;\n",
       "    }\n",
       "</style>\n",
       "<table border=\"1\" class=\"dataframe\">\n",
       "  <thead>\n",
       "    <tr style=\"text-align: right;\">\n",
       "      <th></th>\n",
       "      <th>Date</th>\n",
       "      <th>priceUSD</th>\n",
       "      <th>transactions</th>\n",
       "      <th>size</th>\n",
       "      <th>sentbyaddress</th>\n",
       "      <th>difficulty</th>\n",
       "      <th>hashrate</th>\n",
       "      <th>mining_profitability</th>\n",
       "      <th>sentinusdUSD</th>\n",
       "      <th>transactionfeesUSD</th>\n",
       "      <th>...</th>\n",
       "      <th>price3rsiUSD</th>\n",
       "      <th>price7rsiUSD</th>\n",
       "      <th>price14rsiUSD</th>\n",
       "      <th>price30rsiUSD</th>\n",
       "      <th>price90rsiUSD</th>\n",
       "      <th>price3rocUSD</th>\n",
       "      <th>price7rocUSD</th>\n",
       "      <th>price14rocUSD</th>\n",
       "      <th>price30rocUSD</th>\n",
       "      <th>price90rocUSD</th>\n",
       "    </tr>\n",
       "  </thead>\n",
       "  <tbody>\n",
       "    <tr>\n",
       "      <th>0</th>\n",
       "      <td>2010/07/17</td>\n",
       "      <td>0.0495</td>\n",
       "      <td>235</td>\n",
       "      <td>649.653</td>\n",
       "      <td>390</td>\n",
       "      <td>181.543</td>\n",
       "      <td>2.775561e+09</td>\n",
       "      <td>154298.0</td>\n",
       "      <td>1193.0</td>\n",
       "      <td>0.000010</td>\n",
       "      <td>...</td>\n",
       "      <td>0.000</td>\n",
       "      <td>0.0</td>\n",
       "      <td>0.0</td>\n",
       "      <td>0.0</td>\n",
       "      <td>0.0</td>\n",
       "      <td>0.000</td>\n",
       "      <td>0.0</td>\n",
       "      <td>0.0</td>\n",
       "      <td>0.0</td>\n",
       "      <td>0.0</td>\n",
       "    </tr>\n",
       "    <tr>\n",
       "      <th>1</th>\n",
       "      <td>2010/07/18</td>\n",
       "      <td>0.0726</td>\n",
       "      <td>248</td>\n",
       "      <td>765.285</td>\n",
       "      <td>424</td>\n",
       "      <td>181.543</td>\n",
       "      <td>1.554461e+09</td>\n",
       "      <td>401834.0</td>\n",
       "      <td>2620.0</td>\n",
       "      <td>0.000243</td>\n",
       "      <td>...</td>\n",
       "      <td>0.000</td>\n",
       "      <td>0.0</td>\n",
       "      <td>0.0</td>\n",
       "      <td>0.0</td>\n",
       "      <td>0.0</td>\n",
       "      <td>0.000</td>\n",
       "      <td>0.0</td>\n",
       "      <td>0.0</td>\n",
       "      <td>0.0</td>\n",
       "      <td>0.0</td>\n",
       "    </tr>\n",
       "    <tr>\n",
       "      <th>2</th>\n",
       "      <td>2010/07/19</td>\n",
       "      <td>0.0859</td>\n",
       "      <td>354</td>\n",
       "      <td>756.040</td>\n",
       "      <td>553</td>\n",
       "      <td>181.543</td>\n",
       "      <td>1.551287e+09</td>\n",
       "      <td>481473.0</td>\n",
       "      <td>4048.0</td>\n",
       "      <td>0.000022</td>\n",
       "      <td>...</td>\n",
       "      <td>0.000</td>\n",
       "      <td>0.0</td>\n",
       "      <td>0.0</td>\n",
       "      <td>0.0</td>\n",
       "      <td>0.0</td>\n",
       "      <td>0.000</td>\n",
       "      <td>0.0</td>\n",
       "      <td>0.0</td>\n",
       "      <td>0.0</td>\n",
       "      <td>0.0</td>\n",
       "    </tr>\n",
       "    <tr>\n",
       "      <th>3</th>\n",
       "      <td>2010/07/20</td>\n",
       "      <td>0.0783</td>\n",
       "      <td>413</td>\n",
       "      <td>984.707</td>\n",
       "      <td>632</td>\n",
       "      <td>181.543</td>\n",
       "      <td>1.640430e+09</td>\n",
       "      <td>431831.0</td>\n",
       "      <td>2341.0</td>\n",
       "      <td>0.000000</td>\n",
       "      <td>...</td>\n",
       "      <td>82.751</td>\n",
       "      <td>0.0</td>\n",
       "      <td>0.0</td>\n",
       "      <td>0.0</td>\n",
       "      <td>0.0</td>\n",
       "      <td>58.099</td>\n",
       "      <td>0.0</td>\n",
       "      <td>0.0</td>\n",
       "      <td>0.0</td>\n",
       "      <td>0.0</td>\n",
       "    </tr>\n",
       "    <tr>\n",
       "      <th>4</th>\n",
       "      <td>2010/07/21</td>\n",
       "      <td>0.0767</td>\n",
       "      <td>256</td>\n",
       "      <td>542.483</td>\n",
       "      <td>440</td>\n",
       "      <td>181.543</td>\n",
       "      <td>1.723493e+09</td>\n",
       "      <td>460783.0</td>\n",
       "      <td>2122.0</td>\n",
       "      <td>0.000000</td>\n",
       "      <td>...</td>\n",
       "      <td>78.603</td>\n",
       "      <td>0.0</td>\n",
       "      <td>0.0</td>\n",
       "      <td>0.0</td>\n",
       "      <td>0.0</td>\n",
       "      <td>5.652</td>\n",
       "      <td>0.0</td>\n",
       "      <td>0.0</td>\n",
       "      <td>0.0</td>\n",
       "      <td>0.0</td>\n",
       "    </tr>\n",
       "  </tbody>\n",
       "</table>\n",
       "<p>5 rows × 737 columns</p>\n",
       "</div>"
      ],
      "text/plain": [
       "         Date  priceUSD  transactions     size  sentbyaddress  difficulty  \\\n",
       "0  2010/07/17    0.0495           235  649.653            390     181.543   \n",
       "1  2010/07/18    0.0726           248  765.285            424     181.543   \n",
       "2  2010/07/19    0.0859           354  756.040            553     181.543   \n",
       "3  2010/07/20    0.0783           413  984.707            632     181.543   \n",
       "4  2010/07/21    0.0767           256  542.483            440     181.543   \n",
       "\n",
       "       hashrate  mining_profitability  sentinusdUSD  transactionfeesUSD  ...  \\\n",
       "0  2.775561e+09              154298.0        1193.0            0.000010  ...   \n",
       "1  1.554461e+09              401834.0        2620.0            0.000243  ...   \n",
       "2  1.551287e+09              481473.0        4048.0            0.000022  ...   \n",
       "3  1.640430e+09              431831.0        2341.0            0.000000  ...   \n",
       "4  1.723493e+09              460783.0        2122.0            0.000000  ...   \n",
       "\n",
       "   price3rsiUSD  price7rsiUSD  price14rsiUSD  price30rsiUSD  price90rsiUSD  \\\n",
       "0         0.000           0.0            0.0            0.0            0.0   \n",
       "1         0.000           0.0            0.0            0.0            0.0   \n",
       "2         0.000           0.0            0.0            0.0            0.0   \n",
       "3        82.751           0.0            0.0            0.0            0.0   \n",
       "4        78.603           0.0            0.0            0.0            0.0   \n",
       "\n",
       "   price3rocUSD  price7rocUSD  price14rocUSD  price30rocUSD  price90rocUSD  \n",
       "0         0.000           0.0            0.0            0.0            0.0  \n",
       "1         0.000           0.0            0.0            0.0            0.0  \n",
       "2         0.000           0.0            0.0            0.0            0.0  \n",
       "3        58.099           0.0            0.0            0.0            0.0  \n",
       "4         5.652           0.0            0.0            0.0            0.0  \n",
       "\n",
       "[5 rows x 737 columns]"
      ]
     },
     "execution_count": 2,
     "metadata": {},
     "output_type": "execute_result"
    }
   ],
   "source": [
    "df=pd.read_csv('btc_data.csv')\n",
    "df.head()\n"
   ]
  },
  {
   "cell_type": "code",
   "execution_count": 4,
   "id": "a229d0e4",
   "metadata": {},
   "outputs": [
    {
     "data": {
      "text/plain": [
       "0          0.0495\n",
       "1          0.0726\n",
       "2          0.0859\n",
       "3          0.0783\n",
       "4          0.0767\n",
       "          ...    \n",
       "3483    9349.0000\n",
       "3484    9394.0000\n",
       "3485    9366.0000\n",
       "3486    9393.0000\n",
       "3487    9398.0000\n",
       "Name: priceUSD, Length: 3488, dtype: float64"
      ]
     },
     "execution_count": 4,
     "metadata": {},
     "output_type": "execute_result"
    }
   ],
   "source": [
    "df1=df.reset_index()['priceUSD']\n",
    "df1"
   ]
  },
  {
   "cell_type": "code",
   "execution_count": 5,
   "id": "0c712bde",
   "metadata": {},
   "outputs": [
    {
     "data": {
      "text/plain": [
       "[<matplotlib.lines.Line2D at 0x2c5f0c12f40>]"
      ]
     },
     "execution_count": 5,
     "metadata": {},
     "output_type": "execute_result"
    },
    {
     "data": {
      "image/png": "[encoded data removed]",
      "text/plain": [
       "<Figure size 432x288 with 1 Axes>"
      ]
     },
     "metadata": {
      "needs_background": "light"
     },
     "output_type": "display_data"
    }
   ],
   "source": [
    "plt.plot(df1)"
   ]
  },
  {
   "cell_type": "code",
   "execution_count": 6,
   "id": "b553e810",
   "metadata": {},
   "outputs": [],
   "source": [
    "from sklearn.preprocessing import MinMaxScaler\n",
    "scaler=MinMaxScaler(feature_range=(0,1))\n",
    "df1=scaler.fit_transform(np.array(df1).reshape(-1,1))"
   ]
  },
  {
   "cell_type": "code",
   "execution_count": 7,
   "id": "ae23bb79",
   "metadata": {},
   "outputs": [
    {
     "data": {
      "text/plain": [
       "array([[0.00000000e+00],\n",
       "       [1.19066331e-06],\n",
       "       [1.87619674e-06],\n",
       "       ...,\n",
       "       [4.82757301e-01],\n",
       "       [4.84148985e-01],\n",
       "       [4.84406705e-01]])"
      ]
     },
     "execution_count": 7,
     "metadata": {},
     "output_type": "execute_result"
    }
   ],
   "source": [
    "df1"
   ]
  },
  {
   "cell_type": "code",
   "execution_count": 8,
   "id": "0311658b",
   "metadata": {},
   "outputs": [],
   "source": [
    "##splitting dataset into train and test split\n",
    "training_size=int(len(df1)*0.65)\n",
    "test_size=len(df1)-training_size\n",
    "train_data,test_data=df1[0:training_size,:],df1[training_size:len(df1),:1]"
   ]
  },
  {
   "cell_type": "code",
   "execution_count": 9,
   "id": "12cda851",
   "metadata": {},
   "outputs": [
    {
     "data": {
      "text/plain": [
       "(2267, 1221)"
      ]
     },
     "execution_count": 9,
     "metadata": {},
     "output_type": "execute_result"
    }
   ],
   "source": [
    "training_size,test_size"
   ]
  },
  {
   "cell_type": "code",
   "execution_count": 13,
   "id": "99f87a0c",
   "metadata": {},
   "outputs": [],
   "source": [
    "# convert an array of values into a dataset matrix\n",
    "def create_dataset(dataset, time_step=1):\n",
    "\tdataX, dataY = [], []\n",
    "\tfor i in range(len(dataset)-time_step-1):\n",
    "\t\ta = dataset[i:(i+time_step), 0]   ###i=0, 0,1,2,3-----99   100 \n",
    "\t\tdataX.append(a)\n",
    "\t\tdataY.append(dataset[i + time_step, 0])\n",
    "\treturn np.array(dataX), np.array(dataY)"
   ]
  },
  {
   "cell_type": "code",
   "execution_count": 55,
   "id": "e3e6155c",
   "metadata": {},
   "outputs": [],
   "source": [
    "# reshape into X=t,t+1,t+2,t+3 and Y=t+4\n",
    "time_step = 100\n",
    "X_train, y_train = create_dataset(train_data, time_step)\n",
    "X_test, ytest = create_dataset(test_data, time_step)"
   ]
  },
  {
   "cell_type": "code",
   "execution_count": 56,
   "id": "ceb63027",
   "metadata": {},
   "outputs": [
    {
     "name": "stdout",
     "output_type": "stream",
     "text": [
      "(2166, 100)\n",
      "(2166,)\n"
     ]
    },
    {
     "data": {
      "text/plain": [
       "(None, None)"
      ]
     },
     "execution_count": 56,
     "metadata": {},
     "output_type": "execute_result"
    }
   ],
   "source": [
    "print(X_train.shape), print(y_train.shape)"
   ]
  },
  {
   "cell_type": "code",
   "execution_count": 57,
   "id": "52123cad",
   "metadata": {},
   "outputs": [
    {
     "name": "stdout",
     "output_type": "stream",
     "text": [
      "(1120, 100)\n",
      "(1120,)\n"
     ]
    },
    {
     "data": {
      "text/plain": [
       "(None, None)"
      ]
     },
     "execution_count": 57,
     "metadata": {},
     "output_type": "execute_result"
    }
   ],
   "source": [
    "print(X_test.shape), print(ytest.shape)"
   ]
  },
  {
   "cell_type": "code",
   "execution_count": 58,
   "id": "b1fcc05b",
   "metadata": {},
   "outputs": [],
   "source": [
    "# reshape input to be [samples, time steps, features] which is required for LSTM\n",
    "X_train =X_train.reshape(X_train.shape[0],X_train.shape[1] , 1)\n",
    "X_test = X_test.reshape(X_test.shape[0],X_test.shape[1] , 1)"
   ]
  },
  {
   "cell_type": "code",
   "execution_count": 59,
   "id": "387c15bf",
   "metadata": {},
   "outputs": [],
   "source": [
    "### Creating the Stacked LSTM model\n",
    "import tensorflow as tf\n",
    "from tensorflow.keras.models import Sequential\n",
    "from tensorflow.keras.layers import Dense\n",
    "from tensorflow.keras.layers import LSTM"
   ]
  },
  {
   "cell_type": "code",
   "execution_count": 60,
   "id": "69b8ade9",
   "metadata": {},
   "outputs": [],
   "source": [
    "model=Sequential()\n",
    "model.add(LSTM(50,return_sequences=True,input_shape=(100,1)))\n",
    "model.add(LSTM(50,return_sequences=True))\n",
    "model.add(LSTM(50))\n",
    "model.add(Dense(1))\n",
    "model.compile(loss='mean_squared_error',optimizer='adam')"
   ]
  },
  {
   "cell_type": "code",
   "execution_count": 61,
   "id": "7ed6aabf",
   "metadata": {},
   "outputs": [
    {
     "name": "stdout",
     "output_type": "stream",
     "text": [
      "Model: \"sequential_3\"\n",
      "_________________________________________________________________\n",
      " Layer (type)                Output Shape              Param #   \n",
      "=================================================================\n",
      " lstm_9 (LSTM)               (None, 100, 50)           10400     \n",
      "                                                                 \n",
      " lstm_10 (LSTM)              (None, 100, 50)           20200     \n",
      "                                                                 \n",
      " lstm_11 (LSTM)              (None, 50)                20200     \n",
      "                                                                 \n",
      " dense_3 (Dense)             (None, 1)                 51        \n",
      "                                                                 \n",
      "=================================================================\n",
      "Total params: 50,851\n",
      "Trainable params: 50,851\n",
      "Non-trainable params: 0\n",
      "_________________________________________________________________\n"
     ]
    }
   ],
   "source": [
    "model.summary()"
   ]
  },
  {
   "cell_type": "code",
   "execution_count": 62,
   "id": "6f63c830",
   "metadata": {},
   "outputs": [
    {
     "name": "stdout",
     "output_type": "stream",
     "text": [
      "Epoch 1/100\n",
      "WARNING:tensorflow:AutoGraph could not transform <function Model.make_train_function.<locals>.train_function at 0x000002C58CA34D30> and will run it as-is.\n",
      "Please report this to the TensorFlow team. When filing the bug, set the verbosity to 10 (on Linux, `export AUTOGRAPH_VERBOSITY=10`) and attach the full output.\n",
      "Cause: closure mismatch, requested ('self', 'step_function'), but source function had ()\n",
      "To silence this warning, decorate the function with @tf.autograph.experimental.do_not_convert\n",
      "WARNING: AutoGraph could not transform <function Model.make_train_function.<locals>.train_function at 0x000002C58CA34D30> and will run it as-is.\n",
      "Please report this to the TensorFlow team. When filing the bug, set the verbosity to 10 (on Linux, `export AUTOGRAPH_VERBOSITY=10`) and attach the full output.\n",
      "Cause: closure mismatch, requested ('self', 'step_function'), but source function had ()\n",
      "To silence this warning, decorate the function with @tf.autograph.experimental.do_not_convert\n",
      "34/34 [==============================] - ETA: 0s - loss: 7.4647e-05WARNING:tensorflow:AutoGraph could not transform <function Model.make_test_function.<locals>.test_function at 0x000002C58CCBE670> and will run it as-is.\n",
      "Please report this to the TensorFlow team. When filing the bug, set the verbosity to 10 (on Linux, `export AUTOGRAPH_VERBOSITY=10`) and attach the full output.\n",
      "Cause: closure mismatch, requested ('self', 'step_function'), but source function had ()\n",
      "To silence this warning, decorate the function with @tf.autograph.experimental.do_not_convert\n",
      "WARNING: AutoGraph could not transform <function Model.make_test_function.<locals>.test_function at 0x000002C58CCBE670> and will run it as-is.\n",
      "Please report this to the TensorFlow team. When filing the bug, set the verbosity to 10 (on Linux, `export AUTOGRAPH_VERBOSITY=10`) and attach the full output.\n",
      "Cause: closure mismatch, requested ('self', 'step_function'), but source function had ()\n",
      "To silence this warning, decorate the function with @tf.autograph.experimental.do_not_convert\n",
      "34/34 [==============================] - 11s 197ms/step - loss: 7.4647e-05 - val_loss: 0.0075\n",
      "Epoch 2/100\n",
      "34/34 [==============================] - 6s 166ms/step - loss: 8.0177e-06 - val_loss: 0.0039\n",
      "Epoch 3/100\n",
      "34/34 [==============================] - 6s 170ms/step - loss: 5.9972e-06 - val_loss: 0.0028\n",
      "Epoch 4/100\n",
      "34/34 [==============================] - 6s 169ms/step - loss: 5.3198e-06 - val_loss: 0.0034\n",
      "Epoch 5/100\n",
      "34/34 [==============================] - 6s 167ms/step - loss: 5.4142e-06 - val_loss: 0.0039\n",
      "Epoch 6/100\n",
      "34/34 [==============================] - 6s 168ms/step - loss: 4.4127e-06 - val_loss: 0.0022\n",
      "Epoch 7/100\n",
      "34/34 [==============================] - 6s 165ms/step - loss: 5.2341e-06 - val_loss: 0.0030\n",
      "Epoch 8/100\n",
      "34/34 [==============================] - 6s 167ms/step - loss: 4.5628e-06 - val_loss: 0.0018\n",
      "Epoch 9/100\n",
      "34/34 [==============================] - 6s 166ms/step - loss: 3.6469e-06 - val_loss: 0.0022\n",
      "Epoch 10/100\n",
      "34/34 [==============================] - 6s 166ms/step - loss: 5.0100e-06 - val_loss: 0.0022\n",
      "Epoch 11/100\n",
      "34/34 [==============================] - 6s 164ms/step - loss: 4.2823e-06 - val_loss: 0.0028\n",
      "Epoch 12/100\n",
      "34/34 [==============================] - 6s 163ms/step - loss: 3.2710e-06 - val_loss: 0.0030\n",
      "Epoch 13/100\n",
      "34/34 [==============================] - 5s 156ms/step - loss: 2.8691e-06 - val_loss: 0.0017\n",
      "Epoch 14/100\n",
      "34/34 [==============================] - 5s 159ms/step - loss: 2.9254e-06 - val_loss: 0.0027\n",
      "Epoch 15/100\n",
      "34/34 [==============================] - 5s 161ms/step - loss: 2.6499e-06 - val_loss: 0.0025\n",
      "Epoch 16/100\n",
      "34/34 [==============================] - 5s 158ms/step - loss: 3.1148e-06 - val_loss: 0.0017\n",
      "Epoch 17/100\n",
      "34/34 [==============================] - 5s 158ms/step - loss: 4.1811e-06 - val_loss: 0.0022\n",
      "Epoch 18/100\n",
      "34/34 [==============================] - 5s 155ms/step - loss: 2.8754e-06 - val_loss: 0.0014\n",
      "Epoch 19/100\n",
      "34/34 [==============================] - 5s 155ms/step - loss: 3.8062e-06 - val_loss: 0.0018\n",
      "Epoch 20/100\n",
      "34/34 [==============================] - 5s 152ms/step - loss: 2.6199e-06 - val_loss: 0.0022\n",
      "Epoch 21/100\n",
      "34/34 [==============================] - 5s 150ms/step - loss: 2.7484e-06 - val_loss: 0.0024\n",
      "Epoch 22/100\n",
      "34/34 [==============================] - 5s 149ms/step - loss: 2.7554e-06 - val_loss: 0.0022\n",
      "Epoch 23/100\n",
      "34/34 [==============================] - 5s 151ms/step - loss: 2.2401e-06 - val_loss: 0.0020\n",
      "Epoch 24/100\n",
      "34/34 [==============================] - 5s 152ms/step - loss: 2.1974e-06 - val_loss: 0.0028\n",
      "Epoch 25/100\n",
      "34/34 [==============================] - 5s 150ms/step - loss: 2.3855e-06 - val_loss: 0.0026\n",
      "Epoch 26/100\n",
      "34/34 [==============================] - 5s 153ms/step - loss: 2.8776e-06 - val_loss: 0.0015\n",
      "Epoch 27/100\n",
      "34/34 [==============================] - 5s 153ms/step - loss: 2.0895e-06 - val_loss: 0.0021\n",
      "Epoch 28/100\n",
      "34/34 [==============================] - 5s 151ms/step - loss: 1.9520e-06 - val_loss: 0.0019\n",
      "Epoch 29/100\n",
      "34/34 [==============================] - 5s 151ms/step - loss: 2.1371e-06 - val_loss: 0.0026\n",
      "Epoch 30/100\n",
      "34/34 [==============================] - 5s 153ms/step - loss: 2.5111e-06 - val_loss: 0.0014\n",
      "Epoch 31/100\n",
      "34/34 [==============================] - 5s 150ms/step - loss: 2.2706e-06 - val_loss: 0.0028\n",
      "Epoch 32/100\n",
      "34/34 [==============================] - 5s 153ms/step - loss: 2.0516e-06 - val_loss: 0.0016\n",
      "Epoch 33/100\n",
      "34/34 [==============================] - 5s 153ms/step - loss: 2.1911e-06 - val_loss: 0.0020\n",
      "Epoch 34/100\n",
      "34/34 [==============================] - 5s 154ms/step - loss: 2.1091e-06 - val_loss: 0.0017\n",
      "Epoch 35/100\n",
      "34/34 [==============================] - 5s 152ms/step - loss: 1.9487e-06 - val_loss: 0.0016\n",
      "Epoch 36/100\n",
      "34/34 [==============================] - 5s 151ms/step - loss: 2.1973e-06 - val_loss: 0.0019\n",
      "Epoch 37/100\n",
      "34/34 [==============================] - 5s 153ms/step - loss: 2.1905e-06 - val_loss: 0.0021\n",
      "Epoch 38/100\n",
      "34/34 [==============================] - 5s 149ms/step - loss: 1.8883e-06 - val_loss: 0.0022\n",
      "Epoch 39/100\n",
      "34/34 [==============================] - 5s 153ms/step - loss: 2.2219e-06 - val_loss: 0.0020\n",
      "Epoch 40/100\n",
      "34/34 [==============================] - 5s 151ms/step - loss: 1.8720e-06 - val_loss: 0.0024\n",
      "Epoch 41/100\n",
      "34/34 [==============================] - 5s 151ms/step - loss: 1.7861e-06 - val_loss: 0.0023\n",
      "Epoch 42/100\n",
      "34/34 [==============================] - 5s 150ms/step - loss: 1.7675e-06 - val_loss: 0.0022\n",
      "Epoch 43/100\n",
      "34/34 [==============================] - 5s 153ms/step - loss: 1.8629e-06 - val_loss: 0.0028\n",
      "Epoch 44/100\n",
      "34/34 [==============================] - 5s 153ms/step - loss: 1.8052e-06 - val_loss: 0.0023\n",
      "Epoch 45/100\n",
      "34/34 [==============================] - 5s 154ms/step - loss: 1.7493e-06 - val_loss: 0.0016\n",
      "Epoch 46/100\n",
      "34/34 [==============================] - 5s 154ms/step - loss: 1.9474e-06 - val_loss: 0.0017\n",
      "Epoch 47/100\n",
      "34/34 [==============================] - 5s 154ms/step - loss: 1.9483e-06 - val_loss: 0.0027\n",
      "Epoch 48/100\n",
      "34/34 [==============================] - 5s 152ms/step - loss: 1.7185e-06 - val_loss: 0.0022\n",
      "Epoch 49/100\n",
      "34/34 [==============================] - 5s 153ms/step - loss: 2.4349e-06 - val_loss: 0.0018\n",
      "Epoch 50/100\n",
      "34/34 [==============================] - 5s 150ms/step - loss: 2.2193e-06 - val_loss: 0.0021\n",
      "Epoch 51/100\n",
      "34/34 [==============================] - 5s 153ms/step - loss: 1.7744e-06 - val_loss: 0.0020\n",
      "Epoch 52/100\n",
      "34/34 [==============================] - 5s 151ms/step - loss: 2.0899e-06 - val_loss: 0.0014\n",
      "Epoch 53/100\n",
      "34/34 [==============================] - 5s 152ms/step - loss: 2.2943e-06 - val_loss: 0.0025\n",
      "Epoch 54/100\n",
      "34/34 [==============================] - 5s 150ms/step - loss: 2.0817e-06 - val_loss: 0.0016\n",
      "Epoch 55/100\n",
      "34/34 [==============================] - 5s 153ms/step - loss: 1.8487e-06 - val_loss: 0.0023\n",
      "Epoch 56/100\n",
      "34/34 [==============================] - 5s 150ms/step - loss: 1.7093e-06 - val_loss: 0.0035\n",
      "Epoch 57/100\n",
      "34/34 [==============================] - 5s 150ms/step - loss: 1.8183e-06 - val_loss: 0.0013\n",
      "Epoch 58/100\n",
      "34/34 [==============================] - 5s 154ms/step - loss: 1.9379e-06 - val_loss: 0.0017\n",
      "Epoch 59/100\n"
     ]
    },
    {
     "name": "stdout",
     "output_type": "stream",
     "text": [
      "34/34 [==============================] - 5s 150ms/step - loss: 1.7003e-06 - val_loss: 0.0037\n",
      "Epoch 60/100\n",
      "34/34 [==============================] - 5s 151ms/step - loss: 1.6084e-06 - val_loss: 0.0017\n",
      "Epoch 61/100\n",
      "34/34 [==============================] - 5s 150ms/step - loss: 1.6192e-06 - val_loss: 0.0017\n",
      "Epoch 62/100\n",
      "34/34 [==============================] - 5s 150ms/step - loss: 1.5727e-06 - val_loss: 0.0022\n",
      "Epoch 63/100\n",
      "34/34 [==============================] - 5s 152ms/step - loss: 2.1483e-06 - val_loss: 0.0014\n",
      "Epoch 64/100\n",
      "34/34 [==============================] - 5s 153ms/step - loss: 1.9689e-06 - val_loss: 0.0021\n",
      "Epoch 65/100\n",
      "34/34 [==============================] - 5s 151ms/step - loss: 1.5188e-06 - val_loss: 0.0019\n",
      "Epoch 66/100\n",
      "34/34 [==============================] - 5s 152ms/step - loss: 2.1087e-06 - val_loss: 0.0030\n",
      "Epoch 67/100\n",
      "34/34 [==============================] - 5s 152ms/step - loss: 1.5639e-06 - val_loss: 0.0014\n",
      "Epoch 68/100\n",
      "34/34 [==============================] - 5s 153ms/step - loss: 1.6464e-06 - val_loss: 0.0011\n",
      "Epoch 69/100\n",
      "34/34 [==============================] - 5s 153ms/step - loss: 1.8078e-06 - val_loss: 0.0022\n",
      "Epoch 70/100\n",
      "34/34 [==============================] - 5s 156ms/step - loss: 1.7204e-06 - val_loss: 0.0013\n",
      "Epoch 71/100\n",
      "34/34 [==============================] - 5s 152ms/step - loss: 1.3794e-06 - val_loss: 0.0021\n",
      "Epoch 72/100\n",
      "34/34 [==============================] - 5s 153ms/step - loss: 1.5696e-06 - val_loss: 0.0024\n",
      "Epoch 73/100\n",
      "34/34 [==============================] - 5s 153ms/step - loss: 1.6805e-06 - val_loss: 0.0017\n",
      "Epoch 74/100\n",
      "34/34 [==============================] - 5s 154ms/step - loss: 1.4597e-06 - val_loss: 0.0023\n",
      "Epoch 75/100\n",
      "34/34 [==============================] - 5s 152ms/step - loss: 1.5215e-06 - val_loss: 0.0022\n",
      "Epoch 76/100\n",
      "34/34 [==============================] - 5s 153ms/step - loss: 1.3812e-06 - val_loss: 0.0018\n",
      "Epoch 77/100\n",
      "34/34 [==============================] - 5s 153ms/step - loss: 1.2024e-06 - val_loss: 0.0024\n",
      "Epoch 78/100\n",
      "34/34 [==============================] - 5s 151ms/step - loss: 1.5319e-06 - val_loss: 0.0020\n",
      "Epoch 79/100\n",
      "34/34 [==============================] - 5s 152ms/step - loss: 1.3211e-06 - val_loss: 0.0020\n",
      "Epoch 80/100\n",
      "34/34 [==============================] - 5s 151ms/step - loss: 1.3041e-06 - val_loss: 0.0022\n",
      "Epoch 81/100\n",
      "34/34 [==============================] - 5s 152ms/step - loss: 1.3603e-06 - val_loss: 0.0016\n",
      "Epoch 82/100\n",
      "34/34 [==============================] - 5s 151ms/step - loss: 1.8266e-06 - val_loss: 0.0019\n",
      "Epoch 83/100\n",
      "34/34 [==============================] - 5s 155ms/step - loss: 1.3533e-06 - val_loss: 0.0017\n",
      "Epoch 84/100\n",
      "34/34 [==============================] - 5s 150ms/step - loss: 1.4263e-06 - val_loss: 0.0020\n",
      "Epoch 85/100\n",
      "34/34 [==============================] - 5s 152ms/step - loss: 1.4040e-06 - val_loss: 0.0018\n",
      "Epoch 86/100\n",
      "34/34 [==============================] - 5s 152ms/step - loss: 1.5459e-06 - val_loss: 0.0015\n",
      "Epoch 87/100\n",
      "34/34 [==============================] - 5s 152ms/step - loss: 1.2693e-06 - val_loss: 0.0013\n",
      "Epoch 88/100\n",
      "34/34 [==============================] - 5s 151ms/step - loss: 1.2304e-06 - val_loss: 0.0020\n",
      "Epoch 89/100\n",
      "34/34 [==============================] - 5s 152ms/step - loss: 1.7172e-06 - val_loss: 0.0018\n",
      "Epoch 90/100\n",
      "34/34 [==============================] - 5s 152ms/step - loss: 1.2906e-06 - val_loss: 0.0021\n",
      "Epoch 91/100\n",
      "34/34 [==============================] - 5s 152ms/step - loss: 1.3480e-06 - val_loss: 0.0010\n",
      "Epoch 92/100\n",
      "34/34 [==============================] - 5s 154ms/step - loss: 1.1936e-06 - val_loss: 0.0017\n",
      "Epoch 93/100\n",
      "34/34 [==============================] - 5s 152ms/step - loss: 1.1785e-06 - val_loss: 0.0021\n",
      "Epoch 94/100\n",
      "34/34 [==============================] - 5s 151ms/step - loss: 1.0675e-06 - val_loss: 0.0019\n",
      "Epoch 95/100\n",
      "34/34 [==============================] - 5s 152ms/step - loss: 1.2067e-06 - val_loss: 0.0014\n",
      "Epoch 96/100\n",
      "34/34 [==============================] - 5s 152ms/step - loss: 1.6889e-06 - val_loss: 0.0022\n",
      "Epoch 97/100\n",
      "34/34 [==============================] - 5s 154ms/step - loss: 1.2608e-06 - val_loss: 0.0021\n",
      "Epoch 98/100\n",
      "34/34 [==============================] - 5s 151ms/step - loss: 1.4008e-06 - val_loss: 9.3966e-04\n",
      "Epoch 99/100\n",
      "34/34 [==============================] - 5s 153ms/step - loss: 1.2655e-06 - val_loss: 0.0012\n",
      "Epoch 100/100\n",
      "34/34 [==============================] - 5s 154ms/step - loss: 1.2142e-06 - val_loss: 0.0014\n"
     ]
    },
    {
     "data": {
      "text/plain": [
       "<keras.callbacks.History at 0x2c58cc7afa0>"
      ]
     },
     "execution_count": 62,
     "metadata": {},
     "output_type": "execute_result"
    }
   ],
   "source": [
    "model.fit(X_train,y_train,validation_data=(X_test,ytest),epochs=100,batch_size=64,verbose=1)"
   ]
  },
  {
   "cell_type": "code",
   "execution_count": 31,
   "id": "712789d5",
   "metadata": {},
   "outputs": [
    {
     "name": "stdout",
     "output_type": "stream",
     "text": [
      "WARNING:tensorflow:AutoGraph could not transform <function Model.make_predict_function.<locals>.predict_function at 0x000002C5F6C3F160> and will run it as-is.\n",
      "Please report this to the TensorFlow team. When filing the bug, set the verbosity to 10 (on Linux, `export AUTOGRAPH_VERBOSITY=10`) and attach the full output.\n",
      "Cause: closure mismatch, requested ('self', 'step_function'), but source function had ()\n",
      "To silence this warning, decorate the function with @tf.autograph.experimental.do_not_convert\n",
      "WARNING: AutoGraph could not transform <function Model.make_predict_function.<locals>.predict_function at 0x000002C5F6C3F160> and will run it as-is.\n",
      "Please report this to the TensorFlow team. When filing the bug, set the verbosity to 10 (on Linux, `export AUTOGRAPH_VERBOSITY=10`) and attach the full output.\n",
      "Cause: closure mismatch, requested ('self', 'step_function'), but source function had ()\n",
      "To silence this warning, decorate the function with @tf.autograph.experimental.do_not_convert\n",
      "68/68 [==============================] - 4s 32ms/step\n",
      "35/35 [==============================] - 1s 32ms/step\n"
     ]
    }
   ],
   "source": [
    "###prediction and checking the performance metrics\n",
    "train_predict=model.predict(X_train)\n",
    "test_predict=model.predict(X_test)"
   ]
  },
  {
   "cell_type": "code",
   "execution_count": 32,
   "id": "f4080b9b",
   "metadata": {},
   "outputs": [],
   "source": [
    "##Transformback to original form\n",
    "train_predict=scaler.inverse_transform(train_predict)\n",
    "test_predict=scaler.inverse_transform(test_predict)"
   ]
  },
  {
   "cell_type": "code",
   "execution_count": 33,
   "id": "2e3e95b9",
   "metadata": {},
   "outputs": [
    {
     "data": {
      "text/plain": [
       "328.7530188061729"
      ]
     },
     "execution_count": 33,
     "metadata": {},
     "output_type": "execute_result"
    }
   ],
   "source": [
    "### Calculate RMSE performance metrics\n",
    "import math\n",
    "from sklearn.metrics import mean_squared_error\n",
    "math.sqrt(mean_squared_error(y_train,train_predict))"
   ]
  },
  {
   "cell_type": "code",
   "execution_count": 34,
   "id": "43aa46bf",
   "metadata": {},
   "outputs": [
    {
     "data": {
      "text/plain": [
       "6485.3563944506395"
      ]
     },
     "execution_count": 34,
     "metadata": {},
     "output_type": "execute_result"
    }
   ],
   "source": [
    "### Test Data RMSE\n",
    "math.sqrt(mean_squared_error(ytest,test_predict))"
   ]
  },
  {
   "cell_type": "code",
   "execution_count": null,
   "id": "f342d100",
   "metadata": {},
   "outputs": [],
   "source": []
  }
 ],
 "metadata": {
  "kernelspec": {
   "display_name": "Python 3 (ipykernel)",
   "language": "python",
   "name": "python3"
  },
  "language_info": {
   "codemirror_mode": {
    "name": "ipython",
    "version": 3
   },
   "file_extension": ".py",
   "mimetype": "text/x-python",
   "name": "python",
   "nbconvert_exporter": "python",
   "pygments_lexer": "ipython3",
   "version": "3.8.13"
  }
 },
 "nbformat": 4,
 "nbformat_minor": 5
}
