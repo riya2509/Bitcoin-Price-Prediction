{
 "cells": [
  {
   "cell_type": "markdown",
   "id": "341484da",
   "metadata": {},
   "source": [
    "# Applying autoencoders"
   ]
  },
  {
   "cell_type": "code",
   "execution_count": 4,
   "id": "66255e08",
   "metadata": {},
   "outputs": [],
   "source": [
    "import math\n",
    "import pandas as pd\n",
    "import tensorflow as tf\n",
    "import kerastuner.tuners as kt\n",
    "import matplotlib.pyplot as plt\n",
    "from tensorflow.keras import Model\n",
    "from tensorflow.keras import Sequential\n",
    "from sklearn.preprocessing import StandardScaler\n",
    "from tensorflow.keras.layers import Dense, Dropout\n",
    "from sklearn.model_selection import train_test_split\n",
    "from tensorflow.keras.losses import MeanSquaredLogarithmicError\n",
    "from sklearn.preprocessing import PowerTransformer,MinMaxScaler,StandardScaler, RobustScaler\n",
    "\n",
    "\n"
   ]
  },
  {
   "cell_type": "code",
   "execution_count": 5,
   "id": "6ad6cf1f",
   "metadata": {},
   "outputs": [
    {
     "ename": "NameError",
     "evalue": "name 'data' is not defined",
     "output_type": "error",
     "traceback": [
      "\u001b[1;31m---------------------------------------------------------------------------\u001b[0m",
      "\u001b[1;31mNameError\u001b[0m                                 Traceback (most recent call last)",
      "Input \u001b[1;32mIn [5]\u001b[0m, in \u001b[0;36m<cell line: 2>\u001b[1;34m()\u001b[0m\n\u001b[0;32m      1\u001b[0m scaler \u001b[38;5;241m=\u001b[39m PowerTransformer(method\u001b[38;5;241m=\u001b[39m\u001b[38;5;124m\"\u001b[39m\u001b[38;5;124myeo-johnson\u001b[39m\u001b[38;5;124m\"\u001b[39m)\n\u001b[1;32m----> 2\u001b[0m data_scaled \u001b[38;5;241m=\u001b[39mscaler\u001b[38;5;241m.\u001b[39mfit_transform(\u001b[43mdata\u001b[49m\u001b[38;5;241m.\u001b[39mcopy())\n",
      "\u001b[1;31mNameError\u001b[0m: name 'data' is not defined"
     ]
    }
   ],
   "source": [
    "scaler = PowerTransformer(method=\"yeo-johnson\")\n",
    "data_scaled =scaler.fit_transform(asset.copy())"
   ]
  },
  {
   "cell_type": "code",
   "execution_count": null,
   "id": "816da355",
   "metadata": {},
   "outputs": [],
   "source": [
    "type(data_scaled)"
   ]
  },
  {
   "cell_type": "code",
   "execution_count": null,
   "id": "9fabef46",
   "metadata": {},
   "outputs": [],
   "source": [
    "data_scaled.shape"
   ]
  },
  {
   "cell_type": "code",
   "execution_count": null,
   "id": "f2bb4cd2",
   "metadata": {},
   "outputs": [],
   "source": [
    "data_scaled"
   ]
  },
  {
   "cell_type": "code",
   "execution_count": 3,
   "id": "7cf51c7a",
   "metadata": {},
   "outputs": [],
   "source": [
    "class Encoder(Model):\n",
    "\n",
    "\n",
    "  def __init__(self):\n",
    "    super().__init__()\n",
    "    self.encoder = Sequential([\n",
    "      Dense(180, activation='relu'),\n",
    "      Dense(28, activation='relu'),\n",
    "      Dense(24, activation='relu'),\n",
    "      Dense(20, activation='relu'),\n",
    "      Dropout(0.2),\n",
    "      Dense(16, activation='relu'),\n",
    "      Dense(12, activation='relu'),\n",
    "      Dense(8, activation='relu')\n",
    "    ])\n",
    "  def call(self, inputs):\n",
    "    encoded = self.encoder(inputs)\n",
    "    return encoded\n",
    "   "
   ]
  },
  {
   "cell_type": "code",
   "execution_count": null,
   "id": "3604872f",
   "metadata": {},
   "outputs": [],
   "source": [
    "model = Encoder()\n",
    "# configurations of model\n",
    "model.compile(loss='msle', metrics=['mse'], optimizer='adam')"
   ]
  },
  {
   "cell_type": "markdown",
   "id": "975aeeb7",
   "metadata": {},
   "source": [
    "class AutoEncoders(Model):\n",
    "\n",
    "  def __init__(self, output_units):\n",
    "\n",
    "    super().__init__()\n",
    "    self.encoder = Sequential(\n",
    "        [\n",
    "          Dense(32, activation=\"relu\"),\n",
    "          Dense(16, activation=\"relu\"),\n",
    "          Dense(7, activation=\"relu\")\n",
    "        ]\n",
    "    )\n",
    "\n",
    "    self.decoder = Sequential(\n",
    "        [\n",
    "          Dense(16, activation=\"relu\"),\n",
    "          Dense(32, activation=\"relu\"),\n",
    "          Dense(output_units, activation=\"sigmoid\")\n",
    "        ]\n",
    "    )\n",
    "\n",
    "def call(self, inputs):\n",
    "\n",
    "  encoded = self.encoder(inputs)\n",
    "  decoded = self.decoder(encoded)\n",
    "  return decoded\n",
    "  \n",
    "auto_encoder = AutoEncoders(len(x_train_scaled.columns))\n",
    "\n",
    "auto_encoder.compile(\n",
    "    loss='mae',\n",
    "    metrics=['mae'],\n",
    "    optimizer='adam'\n",
    ")\n",
    "\n",
    "history = auto_encoder.fit(\n",
    "    x_train_scaled, \n",
    "    x_train_scaled, \n",
    "    epochs=15, \n",
    "    batch_size=32, \n",
    "    validation_data=(x_test_scaled, x_test_scaled)\n",
    ")"
   ]
  },
  {
   "cell_type": "code",
   "execution_count": null,
   "id": "fb27bc2e",
   "metadata": {},
   "outputs": [],
   "source": [
    "type(latent_df)"
   ]
  },
  {
   "cell_type": "code",
   "execution_count": null,
   "id": "55ab6104",
   "metadata": {},
   "outputs": [],
   "source": [
    "latentdim_df=pd.DataFrame(latent_df.numpy())"
   ]
  },
  {
   "cell_type": "code",
   "execution_count": null,
   "id": "a3b74928",
   "metadata": {},
   "outputs": [],
   "source": [
    "latentdim_df"
   ]
  },
  {
   "cell_type": "code",
   "execution_count": null,
   "id": "033a4fc5",
   "metadata": {},
   "outputs": [],
   "source": [
    "latentdim_df.to_csv(\"latentdata__yeojohnsontransformation.csv\")"
   ]
  }
 ],
 "metadata": {
  "kernelspec": {
   "display_name": "Python 3 (ipykernel)",
   "language": "python",
   "name": "python3"
  },
  "language_info": {
   "codemirror_mode": {
    "name": "ipython",
    "version": 3
   },
   "file_extension": ".py",
   "mimetype": "text/x-python",
   "name": "python",
   "nbconvert_exporter": "python",
   "pygments_lexer": "ipython3",
   "version": "3.8.13"
  }
 },
 "nbformat": 4,
 "nbformat_minor": 5
}
